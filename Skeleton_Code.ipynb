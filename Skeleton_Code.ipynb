{
 "cells": [
  {
   "cell_type": "code",
   "execution_count": null,
   "metadata": {},
   "outputs": [],
   "source": [
    "import torch\n",
    "import numpy as np\n",
    "import matplotlib.pyplot as plt\n",
    "import torchvision\n",
    "from collections import defaultdict\n",
    "import pickle\n",
    "from torch.autograd import Variable\n",
    "import torch.optim as optim\n",
    "import sys\n",
    "import data_transform\n",
    "import model_funcs_GPU\n",
    "import model_funcs\n",
    "import model_funcs_pt2_GPU\n",
    "import model_funcs_pt2\n",
    "%matplotlib inline"
   ]
  },
  {
   "cell_type": "code",
   "execution_count": null,
   "metadata": {},
   "outputs": [],
   "source": [
    "train_foldername = 'en-valid'\n",
    "train_filename = 'qa3_train'\n",
    "train_fname = 'bAbI_Data/'+str(train_foldername)+'/'+str(train_filename)\n",
    "\n",
    "valid_foldername = 'en-valid'\n",
    "valid_filename = 'qa3_valid'\n",
    "valid_fname = 'bAbI_Data/'+str(valid_foldername)+'/'+str(valid_filename)\n",
    "\n",
    "test_foldername = 'en-valid'\n",
    "test_filename = 'qa3_test'\n",
    "test_fname = 'bAbI_Data/'+str(test_foldername)+'/'+str(test_filename)\n",
    "\n",
    "vec_fname = 'bAbI_Data/model.vec'\n",
    "\n",
    "unk_thres = 0\n",
    "pre_embed = True\n",
    "\n",
    "train_data_BOW, valid_data_BOW, test_data_BOW, train_data_pe, valid_data_pe, test_data_pe, vocab = data_transform.get_data(\n",
    "    train_fname, valid_fname, test_fname, vec_fname=vec_fname, unk_thres = unk_thres, pre_embed=pre_embed)\n",
    "print(train_data_BOW.shape)\n",
    "print(valid_data_BOW.shape)\n",
    "print(test_data_BOW.shape)\n",
    "print(len(vocab))\n",
    "# print(train_data_pe[0:5])"
   ]
  },
  {
   "cell_type": "code",
   "execution_count": null,
   "metadata": {
    "scrolled": true
   },
   "outputs": [],
   "source": [
    "model_identity = 'comb_lstm0_5_3hops'\n",
    "if pre_embed == True:\n",
    "    embed_wts = data_transform.get_embeddings(vec_fname)\n",
    "else:\n",
    "    embed_wts = None\n",
    "if pre_embed == False:\n",
    "    embedding_dim = 10\n",
    "else:\n",
    "    embedding_dim = embed_wts.shape[1]\n",
    "vocab_size = len(vocab)\n",
    "num_hops = 1\n",
    "max_mem_size = 40\n",
    "epochs = 30\n",
    "eta = 0.0001\n",
    "LS = 0\n",
    "ls_thres = 0.001\n",
    "temporal = True\n",
    "positional = True\n",
    "same = 1\n",
    "GPU = False\n",
    "pyTorch2 = False\n",
    "dropout = 0.5"
   ]
  },
  {
   "cell_type": "code",
   "execution_count": null,
   "metadata": {
    "scrolled": true
   },
   "outputs": [],
   "source": [
    "if pyTorch2 == False:\n",
    "    if GPU == True:\n",
    "        print('Using GPU...')\n",
    "        model = model_funcs_GPU.QuesAnsModel(embedding_dim, vocab_size, num_hops = num_hops, max_mem_size = max_mem_size,\n",
    "                                         temporal=temporal, same=same, positional=positional, dropout=dropout,\n",
    "                                                                     pre_embed=pre_embed, embed_wts=embed_wts)\n",
    "        l_tr, accuracy_tr, l_vd, accuracy_vd = model_funcs_GPU.train(model, train_data_BOW, valid_data_BOW,\n",
    "                                                                 train_data_pe, valid_data_pe,\n",
    "                                                                 epochs=epochs,eta=eta,opt=optim.Adam,LS=LS,ls_thres=ls_thres,\n",
    "                                                                     model_name=model_identity)\n",
    "    else:\n",
    "        print('Using CPU...')\n",
    "        model = model_funcs.QuesAnsModel(embedding_dim, vocab_size, num_hops = num_hops, max_mem_size = max_mem_size,\n",
    "                                         temporal=temporal, same=same, positional=positional, dropout=dropout,\n",
    "                                                                     pre_embed=pre_embed, embed_wts=embed_wts)\n",
    "        l_tr, accuracy_tr, l_vd, accuracy_vd = model_funcs.train(model, train_data_BOW, valid_data_BOW,\n",
    "                                                                 train_data_pe, valid_data_pe,\n",
    "                                                                 epochs=epochs,eta=eta,opt=optim.Adam,LS=LS,ls_thres=ls_thres,\n",
    "                                                                 model_name=model_identity)\n",
    "else:\n",
    "    if GPU == True:\n",
    "        print('Using GPU...') \n",
    "        model = model_funcs_pt2_GPU.QuesAnsModel(embedding_dim, vocab_size, num_hops = num_hops, max_mem_size = max_mem_size,\n",
    "                                         temporal=temporal, same=same, positional=positional, dropout=dropout,\n",
    "                                                                     pre_embed=pre_embed, embed_wts=embed_wts)\n",
    "        l_tr, accuracy_tr, l_vd, accuracy_vd = model_funcs_pt2_GPU.train(model, train_data_BOW, valid_data_BOW,\n",
    "                                                                 train_data_pe, valid_data_pe,\n",
    "                                                                 epochs=epochs,eta=eta,opt=optim.Adam,LS=LS,ls_thres=ls_thres,\n",
    "                                                                         model_name=model_identity)\n",
    "    else:\n",
    "        print('Using CPU...')\n",
    "        model = model_funcs_pt2.QuesAnsModel(embedding_dim, vocab_size, num_hops = num_hops, max_mem_size = max_mem_size,\n",
    "                                         temporal=temporal, same=same, positional=positional, dropout=dropout,\n",
    "                                                                     pre_embed=pre_embed, embed_wts=embed_wts)\n",
    "        l_tr, accuracy_tr, l_vd, accuracy_vd = model_funcs_pt2.train(model, train_data_BOW, valid_data_BOW,\n",
    "                                                                 train_data_pe, valid_data_pe,\n",
    "                                                                 epochs=epochs,eta=eta,opt=optim.Adam,LS=LS,ls_thres=ls_thres,\n",
    "                                                                     model_name=model_identity)"
   ]
  },
  {
   "cell_type": "code",
   "execution_count": null,
   "metadata": {},
   "outputs": [],
   "source": [
    "if pyTorch2 == False:\n",
    "    if GPU == True:\n",
    "        acc = model_funcs_GPU.test(model,test_data_BOW,test_data_pe)\n",
    "    else:\n",
    "        acc = model_funcs.test(model,test_data_BOW,test_data_pe)\n",
    "else:\n",
    "    if GPU == True:\n",
    "        acc = model_funcs_pt2_GPU.test(model,test_data_BOW,test_data_pe)\n",
    "    else:\n",
    "        acc = model_funcs_pt2.test(model,test_data_BOW,test_data_pe)"
   ]
  }
 ],
 "metadata": {
  "kernelspec": {
   "display_name": "Python 3",
   "language": "python",
   "name": "python3"
  },
  "language_info": {
   "codemirror_mode": {
    "name": "ipython",
    "version": 3
   },
   "file_extension": ".py",
   "mimetype": "text/x-python",
   "name": "python",
   "nbconvert_exporter": "python",
   "pygments_lexer": "ipython3",
   "version": "3.6.4"
  }
 },
 "nbformat": 4,
 "nbformat_minor": 2
}
