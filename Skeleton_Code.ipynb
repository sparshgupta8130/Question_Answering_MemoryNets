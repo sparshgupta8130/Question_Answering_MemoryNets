{
 "cells": [
  {
   "cell_type": "code",
   "execution_count": 1,
   "metadata": {},
   "outputs": [],
   "source": [
    "import torch\n",
    "import numpy as np\n",
    "import matplotlib.pyplot as plt\n",
    "import torchvision\n",
    "from collections import defaultdict\n",
    "import pickle\n",
    "from torch.autograd import Variable\n",
    "import torch.optim as optim\n",
    "import sys\n",
    "import data_transform\n",
    "import model_funcs\n",
    "%matplotlib inline"
   ]
  },
  {
   "cell_type": "code",
   "execution_count": 2,
   "metadata": {},
   "outputs": [
    {
     "name": "stdout",
     "output_type": "stream",
     "text": [
      "Train Data Size :  48414\n",
      "Valid Data Size :  5578\n",
      "Test Data Size :  5398\n",
      "(48414, 34)\n",
      "(5578, 34)\n",
      "(5398, 34)\n",
      "33\n"
     ]
    }
   ],
   "source": [
    "train_foldername = 'en-valid-10k'\n",
    "train_filename = 'qa2_train'\n",
    "train_fname = 'bAbI_Data/'+str(train_foldername)+'/'+str(train_filename)\n",
    "\n",
    "valid_foldername = 'en-valid-10k'\n",
    "valid_filename = 'qa2_valid'\n",
    "valid_fname = 'bAbI_Data/'+str(valid_foldername)+'/'+str(valid_filename)\n",
    "\n",
    "test_foldername = 'en-valid-10k'\n",
    "test_filename = 'qa2_test'\n",
    "test_fname = 'bAbI_Data/'+str(test_foldername)+'/'+str(test_filename)\n",
    "\n",
    "unk_thres = 0\n",
    "train_data_BOW, valid_data_BOW, test_data_BOW, train_data_pe, valid_data_pe, test_data_pe, vocab = data_transform.get_data(train_fname, valid_fname, test_fname, unk_thres = unk_thres)\n",
    "print(train_data_BOW.shape)\n",
    "print(valid_data_BOW.shape)\n",
    "print(test_data_BOW.shape)\n",
    "print(len(vocab))\n",
    "#print(train_data_pe[0:5])"
   ]
  },
  {
   "cell_type": "code",
   "execution_count": null,
   "metadata": {
    "scrolled": true
   },
   "outputs": [
    {
     "name": "stdout",
     "output_type": "stream",
     "text": [
      "<torch.optim.adam.Adam object at 0x000002550F5E8C50>\n",
      "0 Training Loss :  9.094947017729282e-13  , Training Acc :  0.21111111111111108\n",
      "0 Validation Loss :  3.6049561500549316  , Validation Acc :  0.0\n",
      "1 Training Loss :  58.736328125  , Training Acc :  1.0333333333333332\n",
      "1 Validation Loss :  4.028530597686768  , Validation Acc :  0.0\n",
      "2 Training Loss :  1.4968997240066528  , Training Acc :  1.2666666666666666\n",
      "2 Validation Loss :  4.211144924163818  , Validation Acc :  0.0\n",
      "3 Training Loss :  1.8814116716384888  , Training Acc :  3.922222222222222\n",
      "3 Validation Loss :  4.130467891693115  , Validation Acc :  0.0\n",
      "Inserting Softmax...\n",
      "4 Training Loss :  4.126906394958496  , Training Acc :  8.622222222222224\n",
      "4 Validation Loss :  4.147095203399658  , Validation Acc :  0.0\n",
      "5 Training Loss :  1.7778284549713135  , Training Acc :  15.444444444444445\n",
      "5 Validation Loss :  1.4926766157150269  , Validation Acc :  14.299999999999999\n",
      "6 Training Loss :  1.765944480895996  , Training Acc :  17.433333333333334\n",
      "6 Validation Loss :  1.460657000541687  , Validation Acc :  14.299999999999999\n",
      "7 Training Loss :  1.78192138671875  , Training Acc :  17.42222222222222\n",
      "7 Validation Loss :  1.481662631034851  , Validation Acc :  14.299999999999999\n"
     ]
    }
   ],
   "source": [
    "embedding_dim = 30\n",
    "vocab_size = len(vocab)\n",
    "num_hops = 3\n",
    "max_mem_size = 40\n",
    "epochs = 20\n",
    "eta = 0.0003\n",
    "LS = 1\n",
    "ls_thres = 0.1\n",
    "temporal = True\n",
    "positional = True\n",
    "same = 1\n",
    "\n",
    "model = model_funcs.QuesAnsModel(embedding_dim, vocab_size, num_hops = num_hops, max_mem_size = max_mem_size,\n",
    "                                 temporal=temporal, same=same, positional=positional)\n",
    "l_tr, accuracy_tr, l_vd, accuracy_vd = model_funcs.train(model, train_data_BOW, valid_data_BOW,\n",
    "                                                         train_data_pe, valid_data_pe,\n",
    "                                                         epochs=epochs,eta=eta,opt=optim.Adam,LS=LS,ls_thres=ls_thres)"
   ]
  },
  {
   "cell_type": "code",
   "execution_count": null,
   "metadata": {},
   "outputs": [],
   "source": [
    "acc = model_funcs.test(model,test_data_BOW,test_data_pe)"
   ]
  },
  {
   "cell_type": "code",
   "execution_count": null,
   "metadata": {},
   "outputs": [],
   "source": [
    "a=Variable(torch.zeros(0,10))\n",
    "b=Variable(torch.ones(1,10))\n",
    "if not a.data.shape:\n",
    "    print('---')"
   ]
  },
  {
   "cell_type": "code",
   "execution_count": null,
   "metadata": {},
   "outputs": [],
   "source": []
  }
 ],
 "metadata": {
  "kernelspec": {
   "display_name": "Python 3",
   "language": "python",
   "name": "python3"
  },
  "language_info": {
   "codemirror_mode": {
    "name": "ipython",
    "version": 3
   },
   "file_extension": ".py",
   "mimetype": "text/x-python",
   "name": "python",
   "nbconvert_exporter": "python",
   "pygments_lexer": "ipython3",
   "version": "3.6.4"
  }
 },
 "nbformat": 4,
 "nbformat_minor": 2
}
