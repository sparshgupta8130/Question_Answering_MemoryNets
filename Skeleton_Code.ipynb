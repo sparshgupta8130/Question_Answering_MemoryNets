{
 "cells": [
  {
   "cell_type": "code",
   "execution_count": null,
   "metadata": {},
   "outputs": [],
   "source": [
    "import torch\n",
    "import numpy as np\n",
    "import matplotlib.pyplot as plt\n",
    "import torchvision\n",
    "from collections import defaultdict\n",
    "import pickle\n",
    "from torch.autograd import Variable\n",
    "import torch.optim as optim\n",
    "import sys\n",
    "import data_transform\n",
    "import model_funcs_GPU\n",
    "import model_funcs\n",
    "import model_funcs_pt2_GPU\n",
    "import model_funcs_pt2\n",
    "%matplotlib inline"
   ]
  },
  {
   "cell_type": "code",
   "execution_count": null,
   "metadata": {},
   "outputs": [],
   "source": [
    "train_foldername = 'en-valid-10k'\n",
    "train_filename = 'qa2_train'\n",
    "train_fname = 'bAbI_Data/'+str(train_foldername)+'/'+str(train_filename)\n",
    "\n",
    "valid_foldername = 'en-valid-10k'\n",
    "valid_filename = 'qa2_valid'\n",
    "valid_fname = 'bAbI_Data/'+str(valid_foldername)+'/'+str(valid_filename)\n",
    "\n",
    "test_foldername = 'en-valid-10k'\n",
    "test_filename = 'qa2_test'\n",
    "test_fname = 'bAbI_Data/'+str(test_foldername)+'/'+str(test_filename)\n",
    "\n",
    "unk_thres = 0\n",
    "train_data_BOW, valid_data_BOW, test_data_BOW, train_data_pe, valid_data_pe, test_data_pe, vocab = data_transform.get_data(train_fname, valid_fname, test_fname, unk_thres = unk_thres)\n",
    "print(train_data_BOW.shape)\n",
    "print(valid_data_BOW.shape)\n",
    "print(test_data_BOW.shape)\n",
    "print(len(vocab))\n",
    "#print(train_data_pe[0:5])"
   ]
  },
  {
   "cell_type": "code",
   "execution_count": null,
   "metadata": {
    "scrolled": true
   },
   "outputs": [],
   "source": [
    "embedding_dim = 10\n",
    "vocab_size = len(vocab)\n",
    "num_hops = 3\n",
    "max_mem_size = 40\n",
    "epochs = 300\n",
    "eta = 0.001\n",
    "LS = 1\n",
    "ls_thres = 0.01\n",
    "temporal = True\n",
    "positional = True\n",
    "same = 1\n",
    "GPU = False\n",
    "pyTorch2 = False\n"
   ]
  },
  {
   "cell_type": "code",
   "execution_count": null,
   "metadata": {},
   "outputs": [],
   "source": [
    "if pyTorch2 == False:\n",
    "    if GPU == True:\n",
    "        print('Using GPU...')\n",
    "        model = model_funcs_GPU.QuesAnsModel(embedding_dim, vocab_size, num_hops = num_hops, max_mem_size = max_mem_size,\n",
    "                                         temporal=temporal, same=same, positional=positional)\n",
    "        l_tr, accuracy_tr, l_vd, accuracy_vd = model_funcs_GPU.train(model, train_data_BOW, valid_data_BOW,\n",
    "                                                                 train_data_pe, valid_data_pe,\n",
    "                                                                 epochs=epochs,eta=eta,opt=optim.Adam,LS=LS,ls_thres=ls_thres)\n",
    "    else:\n",
    "        print('Using CPU...')\n",
    "        model = model_funcs.QuesAnsModel(embedding_dim, vocab_size, num_hops = num_hops, max_mem_size = max_mem_size,\n",
    "                                         temporal=temporal, same=same, positional=positional)\n",
    "        l_tr, accuracy_tr, l_vd, accuracy_vd = model_funcs.train(model, train_data_BOW, valid_data_BOW,\n",
    "                                                                 train_data_pe, valid_data_pe,\n",
    "                                                                 epochs=epochs,eta=eta,opt=optim.Adam,LS=LS,ls_thres=ls_thres)\n",
    "else:\n",
    "    if GPU == True:\n",
    "        print('Using GPU...')\n",
    "        model = model_funcs_pt2_GPU.QuesAnsModel(embedding_dim, vocab_size, num_hops = num_hops, max_mem_size = max_mem_size,\n",
    "                                         temporal=temporal, same=same, positional=positional)\n",
    "        l_tr, accuracy_tr, l_vd, accuracy_vd = model_funcs_pt2_GPU.train(model, train_data_BOW, valid_data_BOW,\n",
    "                                                                 train_data_pe, valid_data_pe,\n",
    "                                                                 epochs=epochs,eta=eta,opt=optim.Adam,LS=LS,ls_thres=ls_thres)\n",
    "    else:\n",
    "        print('Using CPU...')\n",
    "        model = model_funcs_pt2.QuesAnsModel(embedding_dim, vocab_size, num_hops = num_hops, max_mem_size = max_mem_size,\n",
    "                                         temporal=temporal, same=same, positional=positional)\n",
    "        l_tr, accuracy_tr, l_vd, accuracy_vd = model_funcs_pt2.train(model, train_data_BOW, valid_data_BOW,\n",
    "                                                                 train_data_pe, valid_data_pe,\n",
    "                                                                 epochs=epochs,eta=eta,opt=optim.Adam,LS=LS,ls_thres=ls_thres)"
   ]
  },
  {
   "cell_type": "code",
   "execution_count": null,
   "metadata": {},
   "outputs": [],
   "source": [
    "acc = model_funcs.test(model,test_data_BOW,test_data_pe)"
   ]
  }
 ],
 "metadata": {
  "kernelspec": {
   "display_name": "Python 3",
   "language": "python",
   "name": "python3"
  },
  "language_info": {
   "codemirror_mode": {
    "name": "ipython",
    "version": 3
   },
   "file_extension": ".py",
   "mimetype": "text/x-python",
   "name": "python",
   "nbconvert_exporter": "python",
   "pygments_lexer": "ipython3",
   "version": "3.6.4"
  }
 },
 "nbformat": 4,
 "nbformat_minor": 2
}
