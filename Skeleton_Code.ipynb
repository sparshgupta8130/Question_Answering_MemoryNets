{
 "cells": [
  {
   "cell_type": "code",
   "execution_count": null,
   "metadata": {
    "collapsed": true
   },
   "outputs": [],
   "source": [
    "import torch\n",
    "import numpy as np\n",
    "import matplotlib.pyplot as plt\n",
    "import torchvision\n",
    "from collections import defaultdict\n",
    "import pickle\n",
    "from torch.autograd import Variable\n",
    "import torch.optim as optim\n",
    "import sys\n",
    "%matplotlib inline"
   ]
  },
  {
   "cell_type": "code",
   "execution_count": null,
   "metadata": {
    "collapsed": true
   },
   "outputs": [],
   "source": [
    "train_foldername = 'en-valid-10k'\n",
    "train_filename = 'qa1_train.txt'\n",
    "train_fname = './bAbI_Data/'+str(train_foldername)+'/'+str(train_filename)\n",
    "\n",
    "valid_foldername = 'en-valid-10k'\n",
    "valid_filename = 'qa1_valid.txt'\n",
    "valid_fname = './bAbI_Data/'+str(valid_foldername)+'/'+str(valid_filename)"
   ]
  },
  {
   "cell_type": "code",
   "execution_count": null,
   "metadata": {},
   "outputs": [],
   "source": [
    "train_dat_aux = []\n",
    "valid_dat_aux = []\n",
    "punctuations = ['.',',','?']\n",
    "\n",
    "for l in open(train_fname):\n",
    "    temp = ''.join(ch for ch in l if ch not in punctuations)\n",
    "    train_dat_aux.append(temp.strip().split())\n",
    "    \n",
    "for l in open(valid_fname):\n",
    "    temp = ''.join(ch for ch in l if ch not in punctuations)\n",
    "    valid_dat_aux.append(temp.strip().split())\n",
    "\n",
    "print(len(train_dat_aux))\n",
    "print(len(valid_dat_aux))"
   ]
  },
  {
   "cell_type": "code",
   "execution_count": null,
   "metadata": {
    "collapsed": true
   },
   "outputs": [],
   "source": [
    "def hasDigits(input_str):\n",
    "    return any(char.isdigit() for char in input_str)"
   ]
  },
  {
   "cell_type": "code",
   "execution_count": null,
   "metadata": {
    "collapsed": true
   },
   "outputs": [],
   "source": [
    "def create_vocab(data,unk_thres=0):\n",
    "    aux = defaultdict(int)\n",
    "    for i in range(len(data)):\n",
    "        for j in range(1,len(data[i])):\n",
    "            if hasDigits(data[i][j]):\n",
    "                break\n",
    "            aux[data[i][j]] += 1\n",
    "    vocab = []\n",
    "    unk_list = []\n",
    "    for i in aux:\n",
    "        if aux[i] < unk_thres:\n",
    "            if not unk_list:\n",
    "                vocab.append('UNK')\n",
    "            unk_list.append(i)\n",
    "        else:\n",
    "            vocab.append(i)\n",
    "    \n",
    "    return vocab, unk_list"
   ]
  },
  {
   "cell_type": "code",
   "execution_count": null,
   "metadata": {
    "collapsed": true
   },
   "outputs": [],
   "source": [
    "def create_dictionaries(vocab):\n",
    "    word2idx = defaultdict(int)\n",
    "    idx2word = defaultdict(int)\n",
    "    k = 0\n",
    "    for i in range(len(vocab)):\n",
    "        word2idx[vocab[i]] = k\n",
    "        idx2word[k] = vocab[i]\n",
    "        k += 1\n",
    "    \n",
    "    with open('variables/word2idx','wb') as handle:\n",
    "        pickle.dump(word2idx,handle,protocol=pickle.HIGHEST_PROTOCOL)\n",
    "    \n",
    "    with open('variables/idx2word','wb') as handle:\n",
    "        pickle.dump(idx2word,handle,protocol=pickle.HIGHEST_PROTOCOL)"
   ]
  },
  {
   "cell_type": "code",
   "execution_count": null,
   "metadata": {
    "collapsed": true
   },
   "outputs": [],
   "source": [
    "vocab, unk_list = create_vocab(train_dat_aux,0)\n",
    "#create_dictionaries(vocab)"
   ]
  },
  {
   "cell_type": "code",
   "execution_count": null,
   "metadata": {
    "collapsed": true
   },
   "outputs": [],
   "source": [
    "with open('variables/word2idx','rb') as handle:\n",
    "    word2idx = pickle.load(handle)\n",
    "\n",
    "with open('variables/idx2word','rb') as handle:\n",
    "    idx2word = pickle.load(handle)"
   ]
  },
  {
   "cell_type": "code",
   "execution_count": null,
   "metadata": {
    "collapsed": true
   },
   "outputs": [],
   "source": [
    "def transform_data_BOW(data,vocab,unk_list,word2idx):\n",
    "    N = len(vocab)\n",
    "    dat_trans = np.zeros((len(data),N+1))\n",
    "    for i in range(len(data)):\n",
    "        if hasDigits(data[i][-1]):\n",
    "            dat_trans[i,N] = word2idx[data[i][-2]]\n",
    "            for j in range(1,len(data[i])-2):\n",
    "                if data[i][j] in unk_list:\n",
    "                    dat_trans[i,word2idx['UNK']] += 1\n",
    "                else:\n",
    "                    dat_trans[i,word2idx[data[i][j]]] += 1\n",
    "        else:\n",
    "            if data[i][0] == '1':\n",
    "                dat_trans[i,N] = -2\n",
    "            else:\n",
    "                dat_trans[i,N] = -1\n",
    "            for j in range(1,len(data[i])):\n",
    "                #print(data[i][j],unk_list)\n",
    "                if data[i][j] in unk_list:\n",
    "                    dat_trans[i,word2idx['UNK']] += 1\n",
    "                else:\n",
    "                    dat_trans[i,word2idx[data[i][j]]] += 1\n",
    "    \n",
    "    return dat_trans"
   ]
  },
  {
   "cell_type": "code",
   "execution_count": null,
   "metadata": {
    "collapsed": true
   },
   "outputs": [],
   "source": [
    "def transform_data_PE(data,vocab,unk_list,word2idx):\n",
    "    N = len(vocab)\n",
    "    dat_trans = []\n",
    "    for i in range(len(data)):\n",
    "        J = len(data[i])\n",
    "        if hasDigits(data[i][-1]):\n",
    "            aux = np.zeros((1,J-2))\n",
    "            aux[0,-1] = word2idx[data[i][-2]]\n",
    "            for j in range(1,J-2):\n",
    "                if data[i][j] in unk_list:\n",
    "                    aux[0,j-1] = word2idx['UNK']\n",
    "                else:\n",
    "                    aux[0,j-1] = word2idx[data[i][j]]\n",
    "        else:\n",
    "            aux = np.zeros((1,J))\n",
    "            if data[i][0] == '1':\n",
    "                aux[0,-1] = -2\n",
    "            else:\n",
    "                aux[0,-1] = -1\n",
    "            for j in range(1,J):\n",
    "                if data[i][j] in unk_list:\n",
    "                    aux[0,j-1] = word2idx['UNK']\n",
    "                else:\n",
    "                    aux[0,j-1] = word2idx[data[i][j]]\n",
    "        dat_trans.append(aux)\n",
    "    return dat_trans"
   ]
  },
  {
   "cell_type": "code",
   "execution_count": null,
   "metadata": {
    "collapsed": true
   },
   "outputs": [],
   "source": [
    "train_data_BOW = transform_data_BOW(train_dat_aux,vocab,unk_list,word2idx)\n",
    "valid_data_BOW = transform_data_BOW(valid_dat_aux,vocab,unk_list,word2idx)"
   ]
  },
  {
   "cell_type": "code",
   "execution_count": null,
   "metadata": {
    "collapsed": true
   },
   "outputs": [],
   "source": [
    "train_data_PE = transform_data_PE(train_dat_aux,vocab,unk_list,word2idx)\n",
    "valid_data_PE = transform_data_PE(valid_dat_aux,vocab,unk_list,word2idx)"
   ]
  },
  {
   "cell_type": "code",
   "execution_count": null,
   "metadata": {
    "collapsed": true
   },
   "outputs": [],
   "source": [
    "def smax(x):\n",
    "    y = torch.div(torch.exp(x),torch.sum(torch.exp(x)))\n",
    "    return y"
   ]
  },
  {
   "cell_type": "code",
   "execution_count": null,
   "metadata": {
    "collapsed": true
   },
   "outputs": [],
   "source": [
    "def comp(out,target):\n",
    "    if (target.data[0] == np.argmax(smax(out.data))):\n",
    "        return 1\n",
    "    else:\n",
    "        return 0"
   ]
  },
  {
   "cell_type": "code",
   "execution_count": null,
   "metadata": {
    "collapsed": true
   },
   "outputs": [],
   "source": [
    "class QuesAnsModel(torch.nn.Module):\n",
    "    def __init__(self,embedding_dim, vocab_size, num_hops = 1, max_mem_size=15,temporal=False):\n",
    "        super(QuesAnsModel,self).__init__()\n",
    "        self.max_mem_size = max_mem_size\n",
    "        self.vocab_size = vocab_size\n",
    "        self.num_hops = num_hops\n",
    "        self.embedding_dim = embedding_dim\n",
    "        self.memory = self.init_memory()\n",
    "        self.current_mem_size = 0\n",
    "        self.temporal = temporal\n",
    "        self.embedding_A = torch.nn.Linear(self.vocab_size,self.embedding_dim,bias=False)\n",
    "        self.embedding_B = torch.nn.Linear(self.vocab_size,self.embedding_dim,bias=False)\n",
    "        self.embedding_C = torch.nn.Linear(self.vocab_size,self.embedding_dim,bias=False)\n",
    "        self.W = torch.nn.Linear(self.embedding_dim,self.vocab_size,bias=False)\n",
    "        \n",
    "        self.temporal_A = torch.nn.Parameter(torch.randn(self.max_mem_size,self.embedding_dim).float())\n",
    "        self.temporal_C = torch.nn.Parameter(torch.randn(self.max_mem_size,self.embedding_dim).float())\n",
    "        \n",
    "        torch.nn.init.xavier_normal(self.embedding_A.weight)\n",
    "        torch.nn.init.xavier_normal(self.embedding_B.weight)\n",
    "        torch.nn.init.xavier_normal(self.embedding_C.weight)\n",
    "        torch.nn.init.xavier_normal(self.W.weight)\n",
    "        self.softmax = torch.nn.Softmax(dim=0)\n",
    "    \n",
    "    def init_memory(self):\n",
    "        aux = torch.zeros((self.max_mem_size, self.vocab_size)).float()\n",
    "#         for i in range(aux.shape[0]):\n",
    "#             for j in range(aux.shape[1]):\n",
    "#                 aux[i,j] = -10000000000\n",
    "        return Variable(aux,requires_grad=False)\n",
    "\n",
    "    def forward(self, seq, seq_pe, tag, pe=1):\n",
    "        if tag in ['s','f']:\n",
    "            if self.current_mem_size < self.max_mem_size:\n",
    "                self.memory[self.current_mem_size] = Variable(torch.from_numpy(seq).float()).view(1,-1)\n",
    "                self.current_mem_size += 1\n",
    "            else:\n",
    "#                 aux1 = self.memory.data[1:,:].numpy()\n",
    "#                 aux1 = np.vstack((aux1,seq))\n",
    "#                 self.memory = Variable(torch.from_numpy(aux1).float())\n",
    "                del self.memory\n",
    "                self.memory = self.init_memory()\n",
    "                self.current_mem_size = 1\n",
    "                self.memory[0] = Variable(torch.from_numpy(seq).float()).view(1,-1)\n",
    "            return True\n",
    "        else:\n",
    "            self.question = Variable(torch.from_numpy(seq).float()).view(1,-1)\n",
    "            if self.temporal == True:\n",
    "#                 temp_mem = np.flipud(np.array(self.memory.data))\n",
    "#                 self.memory = Variable(torch.from_numpy(temp_mem.copy())).float()\n",
    "                ques_d = self.embedding_B(self.question)\n",
    "                current_A = self.embedding_A(self.memory) + self.temporal_A\n",
    "                current_C = self.embedding_C(self.memory) + self.temporal_C\n",
    "            else:\n",
    "                self.question = Variable(torch.from_numpy(seq).float()).view(1,-1)\n",
    "    #             self.question = Variable(torch.from_numpy(seq).float().cuda()).view(1,-1)\n",
    "                ques_d = self.embedding_B(self.question)\n",
    "                current_A = self.embedding_A(self.memory)\n",
    "                current_C = self.embedding_C(self.memory)\n",
    "            for i in range(self.num_hops):\n",
    "                P = self.softmax(torch.mm(ques_d, current_A.t()).t())\n",
    "                o = torch.mm(P.t(),current_C) + ques_d\n",
    "                ques_d = o\n",
    "            output = self.W(o)\n",
    "            return output"
   ]
  },
  {
   "cell_type": "code",
   "execution_count": null,
   "metadata": {
    "collapsed": true
   },
   "outputs": [],
   "source": [
    "def train(model,tr_dt_bow,vd_dt_bow,tr_dt_pe,vd_dt_pe,epochs=10,eta=0.0001,pe=1):\n",
    "    optimizer = optim.Adam(model.parameters(),lr=eta)\n",
    "    loss = torch.nn.CrossEntropyLoss()\n",
    "    \n",
    "    tr_shape = tr_dt_bow.shape\n",
    "    vd_shape = vd_dt_bow.shape\n",
    "    eps = []\n",
    "    l_tr = []\n",
    "    l_vd = []\n",
    "    accuracy_tr = []\n",
    "    accuracy_vd = []\n",
    "    \n",
    "    for epoch in range(epochs):\n",
    "        count=0;\n",
    "        ################################# Training\n",
    "        n_corr = 0;\n",
    "        for i in range(tr_shape[0]):\n",
    "            l_temp = 0\n",
    "            tag = 'q'\n",
    "            if(tr_dt_bow[i,-1]==-1):\n",
    "                tag = 's'\n",
    "                model(tr_dt_bow[i,:-1],tr_dt_pe[i][0,:-1],tag,pe)\n",
    "            elif(tr_dt_bow[i,-1]==-2):\n",
    "                tag = 'f'\n",
    "                model(tr_dt_bow[i,:-1],tr_dt_pe[i][0,:-1],tag,pe)\n",
    "            else:\n",
    "                count+=1\n",
    "                out = model(tr_dt_bow[i,:-1],tr_dt_pe[i][0,:-1],tag,pe)\n",
    "                target = Variable(torch.from_numpy(np.array([tr_dt_bow[i,-1]])).type(torch.LongTensor))\n",
    "#                 target = Variable(torch.from_numpy(np.array([tr_dt_bow[i,-1]])).type(torch.LongTensor).cuda())\n",
    "                optimizer.zero_grad()\n",
    "                loss_tr = loss(out,target)\n",
    "                loss_tr.backward(retain_graph=True)\n",
    "                optimizer.step()\n",
    "                l_temp += loss_tr.data[0]\n",
    "                n_corr += comp(out,target)\n",
    "        acc_tr = n_corr/count*100\n",
    "        l_tr.append(l_temp)\n",
    "        accuracy_tr.append(acc_tr)\n",
    "#         print(model.embedding_B.weight[0:2,2:9])\n",
    "        \n",
    "        ############################# Validation\n",
    "        n_corr = 0;\n",
    "        count = 0;\n",
    "        for i in range(vd_shape[0]):\n",
    "            l_temp = 0\n",
    "            tag = 'q'\n",
    "            if(vd_dt_bow[i,-1]==-1):\n",
    "                tag = 's'\n",
    "                model(vd_dt_bow[i,:-1],vd_dt_pe[i][0,:-1],tag,pe)\n",
    "            elif(vd_dt_bow[i,-1]==-2):\n",
    "                tag = 'f'\n",
    "                model(vd_dt_bow[i,:-1],vd_dt_pe[i][0,:-1],tag,pe)\n",
    "            else:\n",
    "                count+=1\n",
    "                out = model(vd_dt_bow[i,:-1],vd_dt_pe[i][0,:-1],tag,pe)\n",
    "                target = Variable(torch.from_numpy(np.array([vd_dt_bow[i,-1]])).type(torch.LongTensor))\n",
    "#                 target = Variable(torch.from_numpy(np.array([vd_dt_bow[i,-1]])).type(torch.LongTensor).cuda())\n",
    "                optimizer.zero_grad()\n",
    "                loss_vd = loss(out,target)\n",
    "                l_temp += loss_vd.data[0]\n",
    "                n_corr += comp(out,target)\n",
    "        acc_vd = n_corr/count*100\n",
    "        l_vd.append(l_temp)\n",
    "        accuracy_vd.append(acc_vd)\n",
    "        \n",
    "        eps.append(epoch)\n",
    "        print(epoch,'Training Loss : ',l_tr[-1],' , Training Acc : ',accuracy_tr[-1])\n",
    "        print(epoch,'Validation Loss : ',l_vd[-1],' , Validation Acc : ',accuracy_vd[-1])\n",
    "        \n",
    "    plt.plot(eps,l_tr)\n",
    "    plt.plot(eps,l_vd)\n",
    "    plt.xlabel('Epochs')\n",
    "    plt.ylabel('Loss')\n",
    "    plt.legend(['Training Loss','Validation Loss'])\n",
    "    plt.savefig('Loss1.png')\n",
    "    plt.show()\n",
    "\n",
    "    plt.plot(eps,accuracy_tr)\n",
    "    plt.plot(eps,accuracy_vd)\n",
    "    plt.xlabel('Epochs')\n",
    "    plt.ylabel('Accuracy%')\n",
    "    plt.legend(['Training Accuracy','Validation Accuracy'],loc=4)\n",
    "    plt.savefig('Acc1.png')\n",
    "    plt.show()\n",
    "    return l_tr, accuracy_tr, l_vd, accuracy_vd"
   ]
  },
  {
   "cell_type": "code",
   "execution_count": null,
   "metadata": {
    "collapsed": true
   },
   "outputs": [],
   "source": [
    "def test(model,test_dt,test_dt_pe,pe=1):\n",
    "    test_shape = test_dt.shape\n",
    "    n_corr = 0;\n",
    "    count = 0;\n",
    "    for i in range(test_shape[0]):\n",
    "        l_temp = 0\n",
    "        tag = 'q'\n",
    "        if(test_dt[i,-1]==-1):\n",
    "            tag = 's'\n",
    "            model(test_dt[i,:-1],test_dt_pe[i][0,:-1],tag,pe)\n",
    "        elif(test_dt[i,-1]==-2):\n",
    "            tag = 'f'\n",
    "            model(test_dt[i,:-1],test_dt_pe[i][0,:-1],tag,pe)\n",
    "        else:\n",
    "            count+=1\n",
    "            out = model(test_dt[i,:-1],test_dt_pe[i][0,:-1],tag,pe)\n",
    "            target = Variable(torch.from_numpy(np.array([test_dt[i,-1]])).type(torch.LongTensor))\n",
    "#                 target = Variable(torch.from_numpy(np.array([vd_dt_bow[i,-1]])).type(torch.LongTensor).cuda())\n",
    "            n_corr += comp(out,target)\n",
    "    accuracy = n_corr/count*100\n",
    "    print(accuracy)\n",
    "    return accuracy"
   ]
  },
  {
   "cell_type": "code",
   "execution_count": null,
   "metadata": {
    "scrolled": true
   },
   "outputs": [],
   "source": [
    "embedding_dim = 30\n",
    "vocab_size = len(vocab)\n",
    "num_hops = 1\n",
    "max_mem_size = 10\n",
    "epochs = 50\n",
    "model = QuesAnsModel(embedding_dim, vocab_size, num_hops = num_hops, max_mem_size = max_mem_size, temporal=True)\n",
    "train(model, train_data_BOW, valid_data_BOW,train_data_PE,valid_data_PE, epochs=epochs)"
   ]
  },
  {
   "cell_type": "code",
   "execution_count": null,
   "metadata": {},
   "outputs": [],
   "source": [
    "test_foldername = 'en-valid-10k'\n",
    "test_filename = 'qa1_test.txt'\n",
    "test_fname = './bAbI_Data/'+str(test_foldername)+'/'+str(test_filename)\n",
    "test_dat_aux = []\n",
    "for l in open(test_fname):\n",
    "    temp = ''.join(ch for ch in l if ch not in punctuations)\n",
    "    test_dat_aux.append(temp.strip().split())\n",
    "print(len(test_dat_aux))\n",
    "test_data_BOW = transform_data_BOW(test_dat_aux,vocab,unk_list,word2idx)\n",
    "test_data_PE = transform_data_PE(test_dat_aux,vocab,unk_list,word2idx)"
   ]
  },
  {
   "cell_type": "code",
   "execution_count": null,
   "metadata": {},
   "outputs": [],
   "source": [
    "acc = test(model,test_data_BOW,test_data_PE)"
   ]
  }
 ],
 "metadata": {
  "kernelspec": {
   "display_name": "Python 3",
   "language": "python",
   "name": "python3"
  },
  "language_info": {
   "codemirror_mode": {
    "name": "ipython",
    "version": 3
   },
   "file_extension": ".py",
   "mimetype": "text/x-python",
   "name": "python",
   "nbconvert_exporter": "python",
   "pygments_lexer": "ipython3",
   "version": "3.6.3"
  }
 },
 "nbformat": 4,
 "nbformat_minor": 2
}
