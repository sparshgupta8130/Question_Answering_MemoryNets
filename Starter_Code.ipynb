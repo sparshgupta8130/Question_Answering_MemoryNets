{
 "cells": [
  {
   "cell_type": "code",
   "execution_count": null,
   "metadata": {},
   "outputs": [],
   "source": [
    "import torch\n",
    "import numpy as np\n",
    "import matplotlib.pyplot as plt\n",
    "import torchvision\n",
    "from collections import defaultdict\n",
    "%matplotlib inline"
   ]
  },
  {
   "cell_type": "code",
   "execution_count": null,
   "metadata": {},
   "outputs": [],
   "source": [
    "train_foldername = 'en-valid-10k'\n",
    "train_filename = 'qa1_train.txt'\n",
    "train_fname = './bAbI_Data/'+str(train_foldername)+'/'+str(train_filename)\n",
    "\n",
    "valid_foldername = 'en-valid-10k'\n",
    "valid_filename = 'qa1_valid.txt'\n",
    "valid_fname = './bAbI_Data/'+str(valid_foldername)+'/'+str(valid_filename)"
   ]
  },
  {
   "cell_type": "code",
   "execution_count": null,
   "metadata": {},
   "outputs": [],
   "source": [
    "train_dat_aux = []\n",
    "valid_dat_aux = []\n",
    "punctuations = ['.',',','?']\n",
    "\n",
    "for l in open(train_fname):\n",
    "    temp = ''.join(ch for ch in l if ch not in punctuations)\n",
    "    train_dat_aux.append(temp.strip().split())\n",
    "    \n",
    "for l in open(valid_fname):\n",
    "    temp = ''.join(ch for ch in l if ch not in punctuations)\n",
    "    valid_dat_aux.append(temp.strip().split())\n",
    "\n",
    "print(len(train_dat_aux))\n",
    "print(len(valid_dat_aux))"
   ]
  },
  {
   "cell_type": "code",
   "execution_count": null,
   "metadata": {},
   "outputs": [],
   "source": [
    "def hasDigits(input_str):\n",
    "    return any(char.isdigit() for char in input_str)"
   ]
  },
  {
   "cell_type": "code",
   "execution_count": null,
   "metadata": {},
   "outputs": [],
   "source": [
    "def create_vocab(data,unk_thres=0):\n",
    "    aux = defaultdict(int)\n",
    "    for i in range(len(data)):\n",
    "        for j in range(1,len(data[i])):\n",
    "            if hasDigits(data[i][j]):\n",
    "                break\n",
    "            aux[data[i][j]] += 1\n",
    "    vocab = []\n",
    "    unk_list = []\n",
    "    for i in aux:\n",
    "        if aux[i] < unk_thres:\n",
    "            if not unk_list:\n",
    "                vocab.append('UNK')\n",
    "            unk_list.append(i)\n",
    "        else:\n",
    "            vocab.append(i)\n",
    "    \n",
    "    return vocab, unk_list"
   ]
  },
  {
   "cell_type": "code",
   "execution_count": null,
   "metadata": {},
   "outputs": [],
   "source": [
    "vocab, unk_list = create_vocab(train_dat_aux,0)\n",
    "vocab_size = len(vocab)"
   ]
  },
  {
   "cell_type": "code",
   "execution_count": null,
   "metadata": {},
   "outputs": [],
   "source": []
  },
  {
   "cell_type": "code",
   "execution_count": null,
   "metadata": {},
   "outputs": [],
   "source": []
  }
 ],
 "metadata": {
  "kernelspec": {
   "display_name": "Python 3",
   "language": "python",
   "name": "python3"
  },
  "language_info": {
   "codemirror_mode": {
    "name": "ipython",
    "version": 3
   },
   "file_extension": ".py",
   "mimetype": "text/x-python",
   "name": "python",
   "nbconvert_exporter": "python",
   "pygments_lexer": "ipython3",
   "version": "3.6.4"
  }
 },
 "nbformat": 4,
 "nbformat_minor": 2
}
