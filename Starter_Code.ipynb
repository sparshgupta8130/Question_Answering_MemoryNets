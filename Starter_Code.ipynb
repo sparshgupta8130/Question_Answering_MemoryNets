{
 "cells": [
  {
   "cell_type": "code",
   "execution_count": null,
   "metadata": {
    "collapsed": true
   },
   "outputs": [],
   "source": [
    "import torch\n",
    "import numpy as np\n",
    "import matplotlib.pyplot as plt\n",
    "import torchvision\n",
    "from collections import defaultdict\n",
    "from torch.autograd import Variable\n",
    "import torch.optim as optim\n",
    "%matplotlib inline"
   ]
  },
  {
   "cell_type": "code",
   "execution_count": null,
   "metadata": {
    "collapsed": true
   },
   "outputs": [],
   "source": [
    "train_foldername = 'en-valid-10k'\n",
    "train_filename = 'qa1_train.txt'\n",
    "train_fname = './bAbI_Data/'+str(train_foldername)+'/'+str(train_filename)\n",
    "\n",
    "valid_foldername = 'en-valid-10k'\n",
    "valid_filename = 'qa1_valid.txt'\n",
    "valid_fname = './bAbI_Data/'+str(valid_foldername)+'/'+str(valid_filename)"
   ]
  },
  {
   "cell_type": "code",
   "execution_count": null,
   "metadata": {
    "collapsed": true
   },
   "outputs": [],
   "source": [
    "train_dat_aux = []\n",
    "valid_dat_aux = []\n",
    "punctuations = ['.',',','?']\n",
    "\n",
    "for l in open(train_fname):\n",
    "    temp = ''.join(ch for ch in l if ch not in punctuations)\n",
    "    train_dat_aux.append(temp.strip().split())\n",
    "    \n",
    "for l in open(valid_fname):\n",
    "    temp = ''.join(ch for ch in l if ch not in punctuations)\n",
    "    valid_dat_aux.append(temp.strip().split())\n",
    "\n",
    "print(len(train_dat_aux))\n",
    "print(len(valid_dat_aux))"
   ]
  },
  {
   "cell_type": "code",
   "execution_count": null,
   "metadata": {
    "collapsed": true
   },
   "outputs": [],
   "source": [
    "def hasDigits(input_str):\n",
    "    return any(char.isdigit() for char in input_str)"
   ]
  },
  {
   "cell_type": "code",
   "execution_count": null,
   "metadata": {
    "collapsed": true
   },
   "outputs": [],
   "source": [
    "def create_vocab(data,unk_thres=0):\n",
    "    aux = defaultdict(int)\n",
    "    for i in range(len(data)):\n",
    "        for j in range(1,len(data[i])):\n",
    "            if hasDigits(data[i][j]):\n",
    "                break\n",
    "            aux[data[i][j]] += 1\n",
    "    vocab = []\n",
    "    unk_list = []\n",
    "    for i in aux:\n",
    "        if aux[i] < unk_thres:\n",
    "            if not unk_list:\n",
    "                vocab.append('UNK')\n",
    "            unk_list.append(i)\n",
    "        else:\n",
    "            vocab.append(i)\n",
    "    \n",
    "    return vocab, unk_list"
   ]
  },
  {
   "cell_type": "code",
   "execution_count": null,
   "metadata": {
    "collapsed": true
   },
   "outputs": [],
   "source": [
    "vocab, unk_list = create_vocab(train_dat_aux,0)\n",
    "vocab_size = len(vocab)"
   ]
  },
  {
   "cell_type": "code",
   "execution_count": null,
   "metadata": {
    "collapsed": true
   },
   "outputs": [],
   "source": []
  },
  {
   "cell_type": "code",
   "execution_count": null,
   "metadata": {
    "collapsed": true
   },
   "outputs": [],
   "source": [
    "def smax(x):\n",
    "    y = np.divide(np.exp(x),np.sum(np.exp(x)))\n",
    "    return ydef comp(out,target):\n",
    "    if (target == np.argmax(smax(out))):\n",
    "        return 1\n",
    "    else:\n",
    "        return 0"
   ]
  },
  {
   "cell_type": "code",
   "execution_count": null,
   "metadata": {
    "collapsed": true
   },
   "outputs": [],
   "source": [
    "def train(model,tr_dt,epochs=10,eta=0.0001):\n",
    "    \n",
    "    optimiser = optim.Adam(lr=eta)\n",
    "    loss = nn.CrossEntropyLoss()\n",
    "    tr_shape = tr_dt.shape\n",
    "    eps = []\n",
    "    l_tr = []\n",
    "    accuracy = []\n",
    "    for epoch in range(epochs):\n",
    "        count=0;\n",
    "        n_corr = 0;\n",
    "        for i in range(tr_shape[0]):\n",
    "            l_temp = 0\n",
    "            tag = 'q'\n",
    "            if(tr_dt[i,-1:]==-1):\n",
    "                tag = 's'\n",
    "                model(tr_dt[i,1:],tag)\n",
    "            elif(tr_dt[i,--1:]==-2):\n",
    "                tag = 'f'\n",
    "                model(tr_dt[i,1:],tag)\n",
    "            else:\n",
    "                count+=1\n",
    "                out = model(tr_dt[i,1:],tag)\n",
    "                target = tr_dt[i,-1:]\n",
    "                optimiser.zero_grad()\n",
    "\n",
    "                loss_tr = loss(out,target)\n",
    "                loss_tr.backward()\n",
    "                optimser.step()\n",
    "                l_temp += loss_tr.data[0]\n",
    "                if i % 15 == 14:\n",
    "                    print('[%d, %5d] loss: %.3f' % (epoch+1,i+1,l_temp/15))\n",
    "\n",
    "                n_corr += comp(out,target)\n",
    "        acc = n_corr/count*100\n",
    "        l_tr.append(l_temp)\n",
    "        eps.append(epoch)\n",
    "        accuracy.append(acc)\n",
    "    plt.plot(eps,l_tr)\n",
    "    plt.xlabel('Epochs')\n",
    "    plt.ylabel('Loss')\n",
    "    plt.legend(['Training Loss'])\n",
    "    plt.savefig('Loss1.png')\n",
    "    plt.show()\n",
    "\n",
    "    plt.plot(eps,accuracy)\n",
    "    plt.xlabel('Epochs')\n",
    "    plt.ylabel('Accuracy%')\n",
    "    plt.legend(['Training Accuracy'],loc=4)\n",
    "    plt.savefig('Acc2.png')\n",
    "    plt.show()\n",
    "    return l_tr, accuracy"
   ]
  }
 ],
 "metadata": {
  "kernelspec": {
   "display_name": "Python 3",
   "language": "python",
   "name": "python3"
  },
  "language_info": {
   "codemirror_mode": {
    "name": "ipython",
    "version": 3
   },
   "file_extension": ".py",
   "mimetype": "text/x-python",
   "name": "python",
   "nbconvert_exporter": "python",
   "pygments_lexer": "ipython3",
   "version": "3.6.3"
  }
 },
 "nbformat": 4,
 "nbformat_minor": 2
}
