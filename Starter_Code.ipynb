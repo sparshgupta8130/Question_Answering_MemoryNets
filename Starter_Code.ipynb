{
 "cells": [
  {
   "cell_type": "code",
   "execution_count": null,
   "metadata": {
    "collapsed": true
   },
   "outputs": [],
   "source": [
    "import torch\n",
    "import numpy as np\n",
    "import matplotlib.pyplot as plt\n",
    "import torchvision\n",
    "from collections import defaultdict\n",
    "import pickle\n",
    "from torch.autograd import Variable\n",
    "import torch.optim as optim\n",
    "%matplotlib inline"
   ]
  },
  {
   "cell_type": "code",
   "execution_count": null,
   "metadata": {
    "collapsed": true
   },
   "outputs": [],
   "source": [
    "train_foldername = 'en-valid-10k'\n",
    "train_filename = 'qa1_train.txt'\n",
    "train_fname = './bAbI_Data/'+str(train_foldername)+'/'+str(train_filename)\n",
    "\n",
    "valid_foldername = 'en-valid-10k'\n",
    "valid_filename = 'qa1_valid.txt'\n",
    "valid_fname = './bAbI_Data/'+str(valid_foldername)+'/'+str(valid_filename)"
   ]
  },
  {
   "cell_type": "code",
   "execution_count": null,
   "metadata": {
    "collapsed": true
   },
   "outputs": [],
   "source": [
    "train_dat_aux = []\n",
    "valid_dat_aux = []\n",
    "punctuations = ['.',',','?']\n",
    "\n",
    "for l in open(train_fname):\n",
    "    temp = ''.join(ch for ch in l if ch not in punctuations)\n",
    "    train_dat_aux.append(temp.strip().split())\n",
    "    \n",
    "for l in open(valid_fname):\n",
    "    temp = ''.join(ch for ch in l if ch not in punctuations)\n",
    "    valid_dat_aux.append(temp.strip().split())\n",
    "\n",
    "print(len(train_dat_aux))\n",
    "print(len(valid_dat_aux))"
   ]
  },
  {
   "cell_type": "code",
   "execution_count": null,
   "metadata": {
    "collapsed": true
   },
   "outputs": [],
   "source": [
    "def hasDigits(input_str):\n",
    "    return any(char.isdigit() for char in input_str)"
   ]
  },
  {
   "cell_type": "code",
   "execution_count": null,
   "metadata": {
    "collapsed": true
   },
   "outputs": [],
   "source": [
    "def create_vocab(data,unk_thres=0):\n",
    "    aux = defaultdict(int)\n",
    "    for i in range(len(data)):\n",
    "        for j in range(1,len(data[i])):\n",
    "            if hasDigits(data[i][j]):\n",
    "                break\n",
    "            aux[data[i][j]] += 1\n",
    "    vocab = []\n",
    "    unk_list = []\n",
    "    for i in aux:\n",
    "        if aux[i] < unk_thres:\n",
    "            if not unk_list:\n",
    "                vocab.append('UNK')\n",
    "            unk_list.append(i)\n",
    "        else:\n",
    "            vocab.append(i)\n",
    "    \n",
    "    return vocab, unk_list"
   ]
  },
  {
   "cell_type": "code",
   "execution_count": null,
   "metadata": {
    "collapsed": true
   },
   "outputs": [],
   "source": [
    "def create_dictionaries(vocab):\n",
    "    word2idx = defaultdict(int)\n",
    "    idx2word = defaultdict(int)\n",
    "    k = 0\n",
    "    for i in range(len(vocab)):\n",
    "        word2idx[vocab[i]] = k\n",
    "        idx2word[k] = vocab[i]\n",
    "        k += 1\n",
    "    \n",
    "    with open('variables/word2idx','wb') as handle:\n",
    "        pickle.dump(word2idx,handle,protocol=pickle.HIGHEST_PROTOCOL)\n",
    "    \n",
    "    with open('variables/idx2word','wb') as handle:\n",
    "        pickle.dump(idx2word,handle,protocol=pickle.HIGHEST_PROTOCOL)"
   ]
  },
  {
   "cell_type": "code",
   "execution_count": null,
   "metadata": {
    "collapsed": true
   },
   "outputs": [],
   "source": [
    "vocab, unk_list = create_vocab(train_dat_aux,0)\n",
    "create_dictionaries(vocab)"
   ]
  },
  {
   "cell_type": "code",
   "execution_count": null,
   "metadata": {
    "collapsed": true
   },
   "outputs": [],
   "source": [
    "with open('variables/word2idx','rb') as handle:\n",
    "    word2idx = pickle.load(handle)\n",
    "\n",
    "with open('variables/idx2word','rb') as handle:\n",
    "    idx2word = pickle.load(handle)"
   ]
  },
  {
   "cell_type": "code",
   "execution_count": null,
   "metadata": {
    "collapsed": true
   },
   "outputs": [],
   "source": [
    "def transform_data_BOW(data,vocab,unk_list,word2idx):\n",
    "    N = len(vocab)\n",
    "    dat_trans = np.zeros((len(data),N+1))\n",
    "    for i in range(len(data)):\n",
    "        if hasDigits(data[i][-1]):\n",
    "            dat_trans[i,N] = word2idx[data[i][-2]]\n",
    "            for j in range(1,len(data[i])-2):\n",
    "                if data[i][j] in unk_list:\n",
    "                    dat_trans[i,word2idx['UNK']] += 1\n",
    "                else:\n",
    "                    dat_trans[i,word2idx[data[i][j]]] += 1\n",
    "        else:\n",
    "            if data[i][0] == '1':\n",
    "                dat_trans[i,N] = -2\n",
    "            else:\n",
    "                dat_trans[i,N] = -1\n",
    "            for j in range(1,len(data[i])):\n",
    "                #print(data[i][j],unk_list)\n",
    "                if data[i][j] in unk_list:\n",
    "                    dat_trans[i,word2idx['UNK']] += 1\n",
    "                else:\n",
    "                    dat_trans[i,word2idx[data[i][j]]] += 1\n",
    "    \n",
    "    return dat_trans"
   ]
  },
  {
   "cell_type": "code",
   "execution_count": null,
   "metadata": {
    "collapsed": true
   },
   "outputs": [],
   "source": [
    "train_data = transform_data_BOW(train_dat_aux,vocab,unk_list,word2idx)"
   ]
  },
  {
   "cell_type": "code",
   "execution_count": null,
   "metadata": {
    "collapsed": true
   },
   "outputs": [],
   "source": [
    "def smax(x):\n",
    "    y = torch.div(torch.exp(x),torch.sum(torch.exp(x)))\n",
    "    return y"
   ]
  },
  {
   "cell_type": "code",
   "execution_count": null,
   "metadata": {
    "collapsed": true
   },
   "outputs": [],
   "source": [
    "def comp(out,target):\n",
    "    if (target.data[0] == np.argmax(smax(out.data))):\n",
    "        return 1\n",
    "    else:\n",
    "        return 0"
   ]
  },
  {
   "cell_type": "code",
   "execution_count": null,
   "metadata": {
    "collapsed": true
   },
   "outputs": [],
   "source": [
    "class QuesAnsModel(torch.nn.Module):\n",
    "    def __init__(self,embedding_dim, vocab_size, num_hops = 1, max_mem_size=15):\n",
    "        super(QuesAnsModel,self).__init__()\n",
    "        self.max_mem_size = max_mem_size\n",
    "        self.vocab_size = vocab_size\n",
    "        self.num_hops = num_hops\n",
    "        self.embedding_dim = embedding_dim\n",
    "        self.memory = Variable(torch.zeros((max_mem_size, vocab_size)).float())\n",
    "        self.current_mem_size = 0\n",
    "        self.embedding_A = torch.nn.Parameter(torch.randn(self.vocab_size,self.embedding_dim).float())\n",
    "        self.embedding_B = torch.nn.Parameter(torch.randn(self.vocab_size,self.embedding_dim).float())\n",
    "        self.embedding_C = torch.nn.Parameter(torch.randn(self.vocab_size,self.embedding_dim).float())\n",
    "        self.W = torch.nn.Parameter(torch.randn(self.vocab_size,self.embedding_dim).float())\n",
    "        self.softmax = torch.nn.Softmax()\n",
    "    def forward(self, seq, tag):\n",
    "        if tag == 's':\n",
    "            if self.curr_mem_size < self.max_mem_size:\n",
    "                self.memory[self.curr_mem_size] = Variable(torch.from_numpy(seq).float()).view(1,-1)\n",
    "                self.curr_mem_size+=1\n",
    "            else:\n",
    "                pass\n",
    "            return True\n",
    "        elif tag == 'f':\n",
    "            del self.memory\n",
    "            self.curr_mem_size=0\n",
    "            self.memory = Variable(torch.from_numpy(np.zeros((self.max_mem_size, self.vocab_size))).float())\n",
    "            self.memory[0] = Variable(torch.from_numpy(seq).float()).view(1,-1)\n",
    "            return True\n",
    "        elif tag == 'q':\n",
    "            self.question = Variable(torch.from_numpy(seq).float()).view(1,-1)\n",
    "            ques_d = torch.mm(self.question,self.embedding_B)\n",
    "            current_A = torch.mm(self.memory, self.embedding_A)\n",
    "            current_C = torch.mm(self.memory, self.embedding_C)\n",
    "            for i in range(self.num_hops):\n",
    "                P = self.softmax(torch.mm(ques_d, current_A.t()).t())\n",
    "                o = torch.mm(P.t(),current_C) + ques_d\n",
    "                ques_d = o\n",
    "            output = torch.mm(o, self.W.t())\n",
    "            return output"
   ]
  },
  {
   "cell_type": "code",
   "execution_count": null,
   "metadata": {
    "collapsed": true
   },
   "outputs": [],
   "source": [
    "def train(model,tr_dt,epochs=10,eta=0.0001):\n",
    "#     tr_dt = torch.from_numpy(np.array(tr_data))\n",
    "    optimizer = optim.Adam(model.parameters(),lr=eta)\n",
    "    loss = torch.nn.CrossEntropyLoss()\n",
    "    tr_shape = tr_dt.shape\n",
    "    eps = []\n",
    "    l_tr = []\n",
    "    accuracy = []\n",
    "    for epoch in range(epochs):\n",
    "        count=0;\n",
    "        n_corr = 0;\n",
    "        for i in range(tr_shape[0]):\n",
    "            l_temp = 0\n",
    "            tag = 'q'\n",
    "            if(tr_dt[i,-1]==-1):\n",
    "                tag = 's'\n",
    "                model(tr_dt[i,:-1],tag)\n",
    "            elif(tr_dt[i,-1]==-2):\n",
    "                tag = 'f'\n",
    "                model(tr_dt[i,:-1],tag)\n",
    "            else:\n",
    "                count+=1\n",
    "                out = model(tr_dt[i,:-1],tag)\n",
    "#                 print(out)\n",
    "                target = Variable(torch.from_numpy(np.array([tr_dt[i,-1]])).type(torch.LongTensor))\n",
    "                optimizer.zero_grad()\n",
    "                loss_tr = loss(out,target)\n",
    "                loss_tr.backward(retain_graph=True)\n",
    "                optimizer.step()\n",
    "                l_temp += loss_tr.data[0]\n",
    "#                 if i % 15 == 14:\n",
    "#                     print('[%d, %5d] loss: %.3f' % (epoch+1,i+1,l_temp/15))\n",
    "#                 print('sds', out, target)\n",
    "                n_corr += comp(out,target)\n",
    "        acc = n_corr/count*100\n",
    "        l_tr.append(l_temp)\n",
    "        eps.append(epoch)\n",
    "        accuracy.append(acc)\n",
    "        print(epoch,'Loss : ',l_tr[-1],' , Acc : ',accuracy[-1])\n",
    "        \n",
    "    plt.plot(eps,l_tr)\n",
    "    plt.xlabel('Epochs')\n",
    "    plt.ylabel('Loss')\n",
    "    plt.legend(['Training Loss'])\n",
    "    plt.savefig('Loss1.png')\n",
    "    plt.show()\n",
    "\n",
    "    plt.plot(eps,accuracy)\n",
    "    plt.xlabel('Epochs')\n",
    "    plt.ylabel('Accuracy%')\n",
    "    plt.legend(['Training Accuracy'],loc=4)\n",
    "    plt.savefig('Acc2.png')\n",
    "    plt.show()\n",
    "    return l_tr, accuracy"
   ]
  },
  {
   "cell_type": "code",
   "execution_count": null,
   "metadata": {
    "collapsed": true
   },
   "outputs": [],
   "source": [
    "embedding_dim = 50\n",
    "vocab_size = len(vocab)\n",
    "num_hops = 2\n",
    "max_mem_size = 15\n",
    "epochs = 100\n",
    "model = QuesAnsModel(embedding_dim, vocab_size, num_hops = num_hops, max_mem_size = max_mem_size)\n",
    "train(model, train_data, epochs=epochs)"
   ]
  },
  {
   "cell_type": "code",
   "execution_count": null,
   "metadata": {
    "collapsed": true
   },
   "outputs": [],
   "source": []
  }
 ],
 "metadata": {
  "kernelspec": {
   "display_name": "Python 3",
   "language": "python",
   "name": "python3"
  },
  "language_info": {
   "codemirror_mode": {
    "name": "ipython",
    "version": 3
   },
   "file_extension": ".py",
   "mimetype": "text/x-python",
   "name": "python",
   "nbconvert_exporter": "python",
   "pygments_lexer": "ipython3",
   "version": "3.6.2"
  }
 },
 "nbformat": 4,
 "nbformat_minor": 2
}
